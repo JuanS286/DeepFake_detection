{
 "cells": [
  {
   "cell_type": "code",
   "execution_count": 8,
   "id": "ba0c81c0",
   "metadata": {},
   "outputs": [
    {
     "name": "stdout",
     "output_type": "stream",
     "text": [
      "'train': 2 files\n",
      "'fake': 1399 files\n",
      "'real': 1399 files\n",
      "'test': 2 files\n",
      "'fake': 200 files\n",
      "'real': 200 files\n",
      "'validation': 2 files\n",
      "'real': 401 files\n",
      "'fake': 401 files\n",
      "\n",
      "Total number of files in all subfolders: 4006\n"
     ]
    }
   ],
   "source": [
    "import os\n",
    "from google.oauth2 import service_account\n",
    "from googleapiclient.discovery import build\n",
    "\n",
    "# Authentication\n",
    "credentials = service_account.Credentials.from_service_account_file('service_account.json')\n",
    "drive_service = build('drive', 'v3', credentials=credentials)\n",
    "\n",
    "def list_subfolders(parent_folder_id):\n",
    "    subfolders = []\n",
    "    page_token = None\n",
    "    \n",
    "    while True:\n",
    "        response = drive_service.files().list(q=f\"'{parent_folder_id}' in parents and mimeType = 'application/vnd.google-apps.folder'\",\n",
    "                                              fields=\"nextPageToken, files(id, name)\",\n",
    "                                              pageToken=page_token).execute()\n",
    "        subfolders.extend(response.get('files', []))\n",
    "        page_token = response.get('nextPageToken', None)\n",
    "        if not page_token:\n",
    "            break\n",
    "    \n",
    "    return subfolders\n",
    "\n",
    "def list_files_in_folder(folder_id):\n",
    "    \"\"\"\n",
    "    Lists all files in a folder.\n",
    "    \"\"\"\n",
    "    files = []\n",
    "    page_token = None\n",
    "    while True:\n",
    "        response = drive_service.files().list(q=f\"'{folder_id}' in parents\",\n",
    "                                               fields=\"nextPageToken, files(id, name)\",\n",
    "                                               pageSize=100,\n",
    "                                               pageToken=page_token).execute()\n",
    "        files.extend(response.get('files', []))\n",
    "        page_token = response.get('nextPageToken', None)\n",
    "        if not page_token:\n",
    "            break\n",
    "    return files\n",
    "\n",
    "def count_files_in_folder(folder_id):\n",
    "    files = list_files_in_folder(folder_id)\n",
    "    return len(files)\n",
    "\n",
    "def count_files_in_subfolders(parent_folder_id):\n",
    "    subfolders = list_subfolders(parent_folder_id)\n",
    "    total_files = 0\n",
    "    \n",
    "    for subfolder in subfolders:\n",
    "        subfolder_id = subfolder['id']\n",
    "        subfolder_name = subfolder['name']\n",
    "        num_files = count_files_in_folder(subfolder_id)\n",
    "        total_files += num_files\n",
    "        print(f\"'{subfolder_name}': {num_files} files\")\n",
    "        \n",
    "        # Recursively count files in sub-subfolders if any\n",
    "        total_files += count_files_in_subfolders(subfolder_id)\n",
    "    \n",
    "    return total_files\n",
    "\n",
    "# Define the main folder ID\n",
    "main_folder_id = '1M2Q0pfPkUCcdchYHvTk7Np-KhJ8rn25a'\n",
    "\n",
    "# Count files in subfolders recursively\n",
    "total_files = count_files_in_subfolders(main_folder_id)\n",
    "print(f\"\\nTotal number of files in all subfolders: {total_files}\")\n"
   ]
  },
  {
   "cell_type": "code",
   "execution_count": 14,
   "id": "8c5718d1",
   "metadata": {},
   "outputs": [
    {
     "name": "stdout",
     "output_type": "stream",
     "text": [
      "Real Numbers: [62424, 62611, 62014, 61091, 61876, 61967, 62751, 62065, 62093, 62662]\n"
     ]
    }
   ],
   "source": [
    "import os\n",
    "from google.oauth2 import service_account\n",
    "from googleapiclient.discovery import build\n",
    "\n",
    "# Authentication\n",
    "credentials = service_account.Credentials.from_service_account_file('service_account.json')\n",
    "drive_service = build('drive', 'v3', credentials=credentials)\n",
    "\n",
    "def list_files_in_folder(folder_id):\n",
    "    \"\"\"\n",
    "    Lists all files in a folder.\n",
    "    \"\"\"\n",
    "    files = []\n",
    "    page_token = None\n",
    "    while True:\n",
    "        response = drive_service.files().list(q=f\"'{folder_id}' in parents\",\n",
    "                                               fields=\"nextPageToken, files(id, name)\",\n",
    "                                               pageSize=100,\n",
    "                                               pageToken=page_token).execute()\n",
    "        files.extend(response.get('files', []))\n",
    "        page_token = response.get('nextPageToken', None)\n",
    "        if not page_token:\n",
    "            break\n",
    "    return files\n",
    "\n",
    "def extract_numbers_from_filenames(files):\n",
    "    \"\"\"\n",
    "    Extracts numbers from filenames of the format xxxxx.png.\n",
    "    \"\"\"\n",
    "    numbers = []\n",
    "    for file in files:\n",
    "        filename = file['name']\n",
    "        if filename.endswith('.png'):\n",
    "            number = filename.split('.')[0]  # Split filename by '.' and take the part before '.png'\n",
    "            number = int(number) if number.isdigit() else None  # Convert to integer if possible\n",
    "            if number is not None:\n",
    "                numbers.append(number)\n",
    "    return numbers\n",
    "\n",
    "def get_real_numbers(parent_folder_id, train_subfolder_name, real_subfolder_name):\n",
    "    train_subfolder_id = get_subfolder_id(parent_folder_id, train_subfolder_name)\n",
    "    if train_subfolder_id:\n",
    "        real_subfolder_id = get_subfolder_id(train_subfolder_id, real_subfolder_name)\n",
    "        if real_subfolder_id:\n",
    "            files = list_files_in_folder(real_subfolder_id)\n",
    "            numbers = extract_numbers_from_filenames(files)\n",
    "            return numbers\n",
    "        else:\n",
    "            print(f\"Subfolder '{real_subfolder_name}' not found or unable to access.\")\n",
    "            return []\n",
    "    else:\n",
    "        print(f\"Subfolder '{train_subfolder_name}' not found or unable to access.\")\n",
    "        return []\n",
    "\n",
    "def get_subfolder_id(parent_folder_id, subfolder_name):\n",
    "    try:\n",
    "        response = drive_service.files().list(q=f\"'{parent_folder_id}' in parents and name = '{subfolder_name}' and mimeType = 'application/vnd.google-apps.folder'\",\n",
    "                                              fields=\"files(id)\").execute()\n",
    "        subfolders = response.get('files', [])\n",
    "        if subfolders:\n",
    "            return subfolders[0]['id']\n",
    "        else:\n",
    "            return None\n",
    "    except Exception as e:\n",
    "        print(f\"An error occurred while fetching subfolder ID for '{subfolder_name}': {e}\")\n",
    "        return None\n",
    "\n",
    "# Define the main folder ID\n",
    "main_folder_id = '1M2Q0pfPkUCcdchYHvTk7Np-KhJ8rn25a'\n",
    "train_subfolder_name = 'train'\n",
    "real_subfolder_name = 'real'\n",
    "\n",
    "# Extract numbers from filenames in the \"real\" subfolder within the \"train\" subfolder\n",
    "real_numbers = get_real_numbers(main_folder_id, train_subfolder_name, real_subfolder_name)\n",
    "\n",
    "# Print the first 10 numbers for verification\n",
    "print(\"Real Numbers:\", real_numbers[:10])\n"
   ]
  },
  {
   "cell_type": "code",
   "execution_count": 15,
   "id": "31988786",
   "metadata": {},
   "outputs": [
    {
     "data": {
      "text/plain": [
       "1399"
      ]
     },
     "execution_count": 15,
     "metadata": {},
     "output_type": "execute_result"
    }
   ],
   "source": [
    "len(real_numbers)"
   ]
  },
  {
   "cell_type": "code",
   "execution_count": 16,
   "id": "41fe3b7f",
   "metadata": {},
   "outputs": [
    {
     "data": {
      "text/plain": [
       "61000"
      ]
     },
     "execution_count": 16,
     "metadata": {},
     "output_type": "execute_result"
    }
   ],
   "source": [
    "min(real_numbers)"
   ]
  },
  {
   "cell_type": "code",
   "execution_count": 17,
   "id": "d32a2737",
   "metadata": {},
   "outputs": [
    {
     "data": {
      "text/plain": [
       "62999"
      ]
     },
     "execution_count": 17,
     "metadata": {},
     "output_type": "execute_result"
    }
   ],
   "source": [
    "max(real_numbers)"
   ]
  },
  {
   "cell_type": "code",
   "execution_count": 18,
   "id": "0979dd83",
   "metadata": {},
   "outputs": [
    {
     "data": {
      "text/plain": [
       "1999"
      ]
     },
     "execution_count": 18,
     "metadata": {},
     "output_type": "execute_result"
    }
   ],
   "source": [
    "max(real_numbers) - min(real_numbers)"
   ]
  },
  {
   "cell_type": "code",
   "execution_count": 20,
   "id": "21481a88",
   "metadata": {},
   "outputs": [
    {
     "name": "stdout",
     "output_type": "stream",
     "text": [
      "200\n",
      "61029\n",
      "62990\n",
      "1961\n"
     ]
    }
   ],
   "source": [
    "train_subfolder_name = 'test'\n",
    "real_subfolder_name = 'real'\n",
    "\n",
    "# Extract numbers from filenames in the \"real\" subfolder within the \"train\" subfolder\n",
    "test_numbers = get_real_numbers(main_folder_id, train_subfolder_name, real_subfolder_name)\n",
    "print(len(test_numbers))\n",
    "print(min(test_numbers))\n",
    "print(max(test_numbers))\n",
    "print(max(test_numbers) - min(test_numbers))\n"
   ]
  },
  {
   "cell_type": "code",
   "execution_count": 21,
   "id": "5057386e",
   "metadata": {},
   "outputs": [
    {
     "name": "stdout",
     "output_type": "stream",
     "text": [
      "401\n",
      "61004\n",
      "62997\n",
      "1993\n"
     ]
    }
   ],
   "source": [
    "train_subfolder_name = 'validation'\n",
    "real_subfolder_name = 'real'\n",
    "\n",
    "# Extract numbers from filenames in the \"real\" subfolder within the \"train\" subfolder\n",
    "validation_numbers = get_real_numbers(main_folder_id, train_subfolder_name, real_subfolder_name)\n",
    "print(len(validation_numbers))\n",
    "print(min(validation_numbers))\n",
    "print(max(validation_numbers))\n",
    "print(max(validation_numbers) - min(validation_numbers))\n"
   ]
  },
  {
   "cell_type": "code",
   "execution_count": 22,
   "id": "b1faa990",
   "metadata": {},
   "outputs": [
    {
     "name": "stdout",
     "output_type": "stream",
     "text": [
      "2000\n",
      "61000\n",
      "62999\n",
      "1999\n"
     ]
    }
   ],
   "source": [
    "real_pngs = real_numbers+test_numbers+validation_numbers\n",
    "\n",
    "print(len(real_pngs))\n",
    "print(min(real_pngs))\n",
    "print(max(real_pngs))\n",
    "print(max(real_pngs) - min(real_pngs))"
   ]
  },
  {
   "cell_type": "code",
   "execution_count": 25,
   "id": "7a66a62f",
   "metadata": {},
   "outputs": [
    {
     "name": "stdout",
     "output_type": "stream",
     "text": [
      "Total number of files: 4008\n",
      "Minimum file title: photo_1.jpg\n",
      "Maximum file title: photo_4000.jpg\n"
     ]
    }
   ],
   "source": [
    "import os\n",
    "from google.oauth2 import service_account\n",
    "from googleapiclient.discovery import build\n",
    "\n",
    "# Authentication\n",
    "credentials = service_account.Credentials.from_service_account_file('service_account.json')\n",
    "drive_service = build('drive', 'v3', credentials=credentials)\n",
    "\n",
    "def list_files_in_folder(folder_id):\n",
    "    \"\"\"\n",
    "    Lists all files in a folder.\n",
    "    \"\"\"\n",
    "    files = []\n",
    "    page_token = None\n",
    "    while True:\n",
    "        response = drive_service.files().list(q=f\"'{folder_id}' in parents\",\n",
    "                                               fields=\"nextPageToken, files(id, name)\",\n",
    "                                               pageSize=100,\n",
    "                                               pageToken=page_token).execute()\n",
    "        files.extend(response.get('files', []))\n",
    "        page_token = response.get('nextPageToken', None)\n",
    "        if not page_token:\n",
    "            break\n",
    "    return files\n",
    "\n",
    "def extract_number_from_filename(filename):\n",
    "    \"\"\"\n",
    "    Extracts the number from the filename.\n",
    "    \"\"\"\n",
    "    name, ext = os.path.splitext(filename)\n",
    "    try:\n",
    "        return int(name.split('_')[-1])  # Extracts the number part from the filename\n",
    "    except ValueError:\n",
    "        return None\n",
    "\n",
    "# Define the folder ID\n",
    "folder_id = '19StEBq_VOH-65N18FZu5BjzAquOklzL7'\n",
    "\n",
    "# List all files in the folder\n",
    "files = list_files_in_folder(folder_id)\n",
    "\n",
    "# Extract numbers from filenames\n",
    "numbers = [extract_number_from_filename(file['name']) for file in files]\n",
    "numbers = [num for num in numbers if num is not None]  # Remove None values\n",
    "\n",
    "# Find the minimum and maximum numbers\n",
    "min_number = min(numbers)\n",
    "max_number = max(numbers)\n",
    "\n",
    "# Find the file titles with the minimum and maximum numbers\n",
    "min_file_title = next((file['name'] for file in files if extract_number_from_filename(file['name']) == min_number), None)\n",
    "max_file_title = next((file['name'] for file in files if extract_number_from_filename(file['name']) == max_number), None)\n",
    "\n",
    "# Print the total number of files\n",
    "print(\"Total number of files:\", len(files))\n",
    "\n",
    "# Print the titles of the file with the minimum and maximum numbers\n",
    "print(\"Minimum file title:\", min_file_title)\n",
    "print(\"Maximum file title:\", max_file_title)\n"
   ]
  },
  {
   "cell_type": "code",
   "execution_count": 32,
   "id": "4ed8b163",
   "metadata": {},
   "outputs": [
    {
     "name": "stdout",
     "output_type": "stream",
     "text": [
      "Fake Numbers: [642, 477, 1912, 1494, 738, 1984, 1074, 1947, 1870, 775]\n",
      "1394\n",
      "1\n",
      "2003\n"
     ]
    }
   ],
   "source": [
    "import os\n",
    "from google.oauth2 import service_account\n",
    "from googleapiclient.discovery import build\n",
    "\n",
    "# Authentication\n",
    "credentials = service_account.Credentials.from_service_account_file('service_account.json')\n",
    "drive_service = build('drive', 'v3', credentials=credentials)\n",
    "\n",
    "def list_files_in_folder(folder_id):\n",
    "    \"\"\"\n",
    "    Lists all files in a folder.\n",
    "    \"\"\"\n",
    "    files = []\n",
    "    page_token = None\n",
    "    while True:\n",
    "        response = drive_service.files().list(q=f\"'{folder_id}' in parents\",\n",
    "                                               fields=\"nextPageToken, files(id, name)\",\n",
    "                                               pageSize=100,\n",
    "                                               pageToken=page_token).execute()\n",
    "        files.extend(response.get('files', []))\n",
    "        page_token = response.get('nextPageToken', None)\n",
    "        if not page_token:\n",
    "            break\n",
    "    return files\n",
    "\n",
    "def extract_numbers_from_filenames(files):\n",
    "    \"\"\"\n",
    "    Extracts numbers from filenames of the format photo_num.jpg.\n",
    "    \"\"\"\n",
    "    numbers = []\n",
    "    for file in files:\n",
    "        filename = file['name']\n",
    "        if filename.startswith('photo_') and filename.endswith('.jpg'):\n",
    "            number = filename.split('_')[1]  # Split filename by '_' and take the part after 'photo_'\n",
    "            number = os.path.splitext(number)[0]  # Remove the file extension '.jpg'\n",
    "            number = int(number) if number.isdigit() else None  # Convert to integer if possible\n",
    "            if number is not None:\n",
    "                numbers.append(number)\n",
    "    return numbers\n",
    "\n",
    "def get_fake_numbers(parent_folder_id, train_subfolder_name, real_subfolder_name):\n",
    "    train_subfolder_id = get_subfolder_id(parent_folder_id, train_subfolder_name)\n",
    "    if train_subfolder_id:\n",
    "        real_subfolder_id = get_subfolder_id(train_subfolder_id, real_subfolder_name)\n",
    "        if real_subfolder_id:\n",
    "            files = list_files_in_folder(real_subfolder_id)\n",
    "            numbers = extract_numbers_from_filenames(files)\n",
    "            return numbers\n",
    "        else:\n",
    "            print(f\"Subfolder '{real_subfolder_name}' not found or unable to access.\")\n",
    "            return []\n",
    "    else:\n",
    "        print(f\"Subfolder '{train_subfolder_name}' not found or unable to access.\")\n",
    "        return []\n",
    "\n",
    "def get_subfolder_id(parent_folder_id, subfolder_name):\n",
    "    try:\n",
    "        response = drive_service.files().list(q=f\"'{parent_folder_id}' in parents and name = '{subfolder_name}' and mimeType = 'application/vnd.google-apps.folder'\",\n",
    "                                              fields=\"files(id)\").execute()\n",
    "        subfolders = response.get('files', [])\n",
    "        if subfolders:\n",
    "            return subfolders[0]['id']\n",
    "        else:\n",
    "            return None\n",
    "    except Exception as e:\n",
    "        print(f\"An error occurred while fetching subfolder ID for '{subfolder_name}': {e}\")\n",
    "        return None\n",
    "\n",
    "# Define the main folder ID\n",
    "main_folder_id = '1M2Q0pfPkUCcdchYHvTk7Np-KhJ8rn25a'\n",
    "train_subfolder_name = 'train'\n",
    "real_subfolder_name = 'fake'\n",
    "\n",
    "# Extract numbers from filenames in the \"real\" subfolder within the \"train\" subfolder\n",
    "fake_numbers = get_fake_numbers(main_folder_id, train_subfolder_name, real_subfolder_name)\n",
    "\n",
    "# Print the first 10 numbers for verification\n",
    "print(\"Fake Numbers:\", fake_numbers[:10])\n",
    "print(len(fake_numbers))\n",
    "print(min(fake_numbers))\n",
    "print(max(fake_numbers))"
   ]
  },
  {
   "cell_type": "code",
   "execution_count": 33,
   "id": "3b6111eb",
   "metadata": {},
   "outputs": [
    {
     "name": "stdout",
     "output_type": "stream",
     "text": [
      "200\n",
      "50\n",
      "2005\n"
     ]
    }
   ],
   "source": [
    "# Define the main folder ID\n",
    "main_folder_id = '1M2Q0pfPkUCcdchYHvTk7Np-KhJ8rn25a'\n",
    "train_subfolder_name = 'test'\n",
    "real_subfolder_name = 'fake'\n",
    "\n",
    "# Extract numbers from filenames in the \"real\" subfolder within the \"train\" subfolder\n",
    "test_fake_numbers = get_fake_numbers(main_folder_id, train_subfolder_name, real_subfolder_name)\n",
    "print(len(test_fake_numbers))\n",
    "print(min(test_fake_numbers))\n",
    "print(max(test_fake_numbers))"
   ]
  },
  {
   "cell_type": "code",
   "execution_count": 34,
   "id": "5d11a520",
   "metadata": {},
   "outputs": [
    {
     "name": "stdout",
     "output_type": "stream",
     "text": [
      "401\n",
      "2\n",
      "2004\n"
     ]
    }
   ],
   "source": [
    "# Define the main folder ID\n",
    "main_folder_id = '1M2Q0pfPkUCcdchYHvTk7Np-KhJ8rn25a'\n",
    "train_subfolder_name = 'validation'\n",
    "real_subfolder_name = 'fake'\n",
    "\n",
    "# Extract numbers from filenames in the \"real\" subfolder within the \"train\" subfolder\n",
    "validation_fake_numbers = get_fake_numbers(main_folder_id, train_subfolder_name, real_subfolder_name)\n",
    "print(len(validation_fake_numbers))\n",
    "print(min(validation_fake_numbers))\n",
    "print(max(validation_fake_numbers))"
   ]
  },
  {
   "cell_type": "code",
   "execution_count": 35,
   "id": "648e436c",
   "metadata": {},
   "outputs": [
    {
     "name": "stdout",
     "output_type": "stream",
     "text": [
      "1995\n",
      "1\n",
      "2005\n"
     ]
    }
   ],
   "source": [
    "fake_jpgs = fake_numbers+test_fake_numbers+validation_fake_numbers\n",
    "print(len(fake_jpgs))\n",
    "print(min(fake_jpgs))\n",
    "print(max(fake_jpgs))"
   ]
  },
  {
   "cell_type": "code",
   "execution_count": null,
   "id": "e6431685",
   "metadata": {},
   "outputs": [],
   "source": []
  },
  {
   "cell_type": "code",
   "execution_count": null,
   "id": "ba3136ec",
   "metadata": {},
   "outputs": [],
   "source": []
  }
 ],
 "metadata": {
  "kernelspec": {
   "display_name": "Python 3 (ipykernel)",
   "language": "python",
   "name": "python3"
  },
  "language_info": {
   "codemirror_mode": {
    "name": "ipython",
    "version": 3
   },
   "file_extension": ".py",
   "mimetype": "text/x-python",
   "name": "python",
   "nbconvert_exporter": "python",
   "pygments_lexer": "ipython3",
   "version": "3.11.5"
  }
 },
 "nbformat": 4,
 "nbformat_minor": 5
}
